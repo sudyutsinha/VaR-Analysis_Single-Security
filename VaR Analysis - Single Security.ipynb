{
 "cells": [
  {
   "cell_type": "code",
   "execution_count": 1,
   "id": "d7b91ff2",
   "metadata": {},
   "outputs": [],
   "source": [
    "#import necessary packages\n",
    "\n",
    "import numpy as np\n",
    "import pandas as pd\n",
    "import matplotlib.pyplot as plt\n",
    "import matplotlib.mlab as mlab\n",
    "import seaborn\n",
    "from scipy.stats import norm"
   ]
  },
  {
   "cell_type": "code",
   "execution_count": 2,
   "id": "2580fef1",
   "metadata": {},
   "outputs": [
    {
     "data": {
      "text/html": [
       "<div>\n",
       "<style scoped>\n",
       "    .dataframe tbody tr th:only-of-type {\n",
       "        vertical-align: middle;\n",
       "    }\n",
       "\n",
       "    .dataframe tbody tr th {\n",
       "        vertical-align: top;\n",
       "    }\n",
       "\n",
       "    .dataframe thead th {\n",
       "        text-align: right;\n",
       "    }\n",
       "</style>\n",
       "<table border=\"1\" class=\"dataframe\">\n",
       "  <thead>\n",
       "    <tr style=\"text-align: right;\">\n",
       "      <th></th>\n",
       "      <th>Dates</th>\n",
       "      <th>10yr Teasury Bond Yields (Jan 2021 - Present)</th>\n",
       "    </tr>\n",
       "  </thead>\n",
       "  <tbody>\n",
       "    <tr>\n",
       "      <th>0</th>\n",
       "      <td>2022-08-01</td>\n",
       "      <td>2.608</td>\n",
       "    </tr>\n",
       "    <tr>\n",
       "      <th>1</th>\n",
       "      <td>2022-07-29</td>\n",
       "      <td>2.651</td>\n",
       "    </tr>\n",
       "    <tr>\n",
       "      <th>2</th>\n",
       "      <td>2022-07-28</td>\n",
       "      <td>2.677</td>\n",
       "    </tr>\n",
       "    <tr>\n",
       "      <th>3</th>\n",
       "      <td>2022-07-27</td>\n",
       "      <td>2.788</td>\n",
       "    </tr>\n",
       "    <tr>\n",
       "      <th>4</th>\n",
       "      <td>2022-07-26</td>\n",
       "      <td>2.809</td>\n",
       "    </tr>\n",
       "  </tbody>\n",
       "</table>\n",
       "</div>"
      ],
      "text/plain": [
       "       Dates  10yr Teasury Bond Yields (Jan 2021 - Present)\n",
       "0 2022-08-01                                          2.608\n",
       "1 2022-07-29                                          2.651\n",
       "2 2022-07-28                                          2.677\n",
       "3 2022-07-27                                          2.788\n",
       "4 2022-07-26                                          2.809"
      ]
     },
     "execution_count": 2,
     "metadata": {},
     "output_type": "execute_result"
    }
   ],
   "source": [
    "#pull historical data from excel spreadsheet and store it in a data frame\n",
    "\n",
    "df_data = pd.read_excel(r'C:\\Users\\sudyu\\Downloads\\Bond Data.xlsx')\n",
    "df_data.head()"
   ]
  },
  {
   "cell_type": "code",
   "execution_count": 3,
   "id": "1aaddf09",
   "metadata": {},
   "outputs": [
    {
     "data": {
      "text/html": [
       "<div>\n",
       "<style scoped>\n",
       "    .dataframe tbody tr th:only-of-type {\n",
       "        vertical-align: middle;\n",
       "    }\n",
       "\n",
       "    .dataframe tbody tr th {\n",
       "        vertical-align: top;\n",
       "    }\n",
       "\n",
       "    .dataframe thead th {\n",
       "        text-align: right;\n",
       "    }\n",
       "</style>\n",
       "<table border=\"1\" class=\"dataframe\">\n",
       "  <thead>\n",
       "    <tr style=\"text-align: right;\">\n",
       "      <th></th>\n",
       "      <th>10yr Teasury Bond Yields (Jan 2021 - Present)</th>\n",
       "    </tr>\n",
       "    <tr>\n",
       "      <th>Dates</th>\n",
       "      <th></th>\n",
       "    </tr>\n",
       "  </thead>\n",
       "  <tbody>\n",
       "    <tr>\n",
       "      <th>2022-08-01</th>\n",
       "      <td>2.608</td>\n",
       "    </tr>\n",
       "    <tr>\n",
       "      <th>2022-07-29</th>\n",
       "      <td>2.651</td>\n",
       "    </tr>\n",
       "    <tr>\n",
       "      <th>2022-07-28</th>\n",
       "      <td>2.677</td>\n",
       "    </tr>\n",
       "    <tr>\n",
       "      <th>2022-07-27</th>\n",
       "      <td>2.788</td>\n",
       "    </tr>\n",
       "    <tr>\n",
       "      <th>2022-07-26</th>\n",
       "      <td>2.809</td>\n",
       "    </tr>\n",
       "  </tbody>\n",
       "</table>\n",
       "</div>"
      ],
      "text/plain": [
       "            10yr Teasury Bond Yields (Jan 2021 - Present)\n",
       "Dates                                                    \n",
       "2022-08-01                                          2.608\n",
       "2022-07-29                                          2.651\n",
       "2022-07-28                                          2.677\n",
       "2022-07-27                                          2.788\n",
       "2022-07-26                                          2.809"
      ]
     },
     "execution_count": 3,
     "metadata": {},
     "output_type": "execute_result"
    }
   ],
   "source": [
    "#pre-process the Dates data to prepare for calculations\n",
    "\n",
    "df_data['Dates'] = pd.to_datetime(df_data['Dates'])\n",
    "df_data.set_index('Dates', inplace=True)\n",
    "df_data.head()"
   ]
  },
  {
   "cell_type": "code",
   "execution_count": 9,
   "id": "212f162f",
   "metadata": {},
   "outputs": [
    {
     "data": {
      "text/html": [
       "<div>\n",
       "<style scoped>\n",
       "    .dataframe tbody tr th:only-of-type {\n",
       "        vertical-align: middle;\n",
       "    }\n",
       "\n",
       "    .dataframe tbody tr th {\n",
       "        vertical-align: top;\n",
       "    }\n",
       "\n",
       "    .dataframe thead th {\n",
       "        text-align: right;\n",
       "    }\n",
       "</style>\n",
       "<table border=\"1\" class=\"dataframe\">\n",
       "  <thead>\n",
       "    <tr style=\"text-align: right;\">\n",
       "      <th></th>\n",
       "      <th>10yr Teasury Bond Yields (Jan 2021 - Present)</th>\n",
       "      <th>daily change</th>\n",
       "    </tr>\n",
       "    <tr>\n",
       "      <th>Dates</th>\n",
       "      <th></th>\n",
       "      <th></th>\n",
       "    </tr>\n",
       "  </thead>\n",
       "  <tbody>\n",
       "    <tr>\n",
       "      <th>2022-08-01</th>\n",
       "      <td>2.608</td>\n",
       "      <td>-0.016220</td>\n",
       "    </tr>\n",
       "    <tr>\n",
       "      <th>2022-07-29</th>\n",
       "      <td>2.651</td>\n",
       "      <td>-0.009712</td>\n",
       "    </tr>\n",
       "    <tr>\n",
       "      <th>2022-07-28</th>\n",
       "      <td>2.677</td>\n",
       "      <td>-0.039813</td>\n",
       "    </tr>\n",
       "    <tr>\n",
       "      <th>2022-07-27</th>\n",
       "      <td>2.788</td>\n",
       "      <td>-0.007476</td>\n",
       "    </tr>\n",
       "    <tr>\n",
       "      <th>2022-07-26</th>\n",
       "      <td>2.809</td>\n",
       "      <td>0.003931</td>\n",
       "    </tr>\n",
       "  </tbody>\n",
       "</table>\n",
       "</div>"
      ],
      "text/plain": [
       "            10yr Teasury Bond Yields (Jan 2021 - Present)  daily change\n",
       "Dates                                                                  \n",
       "2022-08-01                                          2.608     -0.016220\n",
       "2022-07-29                                          2.651     -0.009712\n",
       "2022-07-28                                          2.677     -0.039813\n",
       "2022-07-27                                          2.788     -0.007476\n",
       "2022-07-26                                          2.809      0.003931"
      ]
     },
     "execution_count": 9,
     "metadata": {},
     "output_type": "execute_result"
    }
   ],
   "source": [
    "#maniuplate and modify dataset to calculate and list the daily change in yields\n",
    "\n",
    "df_data[\"daily change\"] = df_data[\"10yr Teasury Bond Yields (Jan 2021 - Present)\"].pct_change(-1) \n",
    "df_data.head()"
   ]
  },
  {
   "cell_type": "code",
   "execution_count": 5,
   "id": "910afc02",
   "metadata": {},
   "outputs": [],
   "source": [
    "#define the lookback periods\n",
    "\n",
    "lookback_periods = [50, 100, 200, 300]"
   ]
  },
  {
   "cell_type": "code",
   "execution_count": 10,
   "id": "a176d18d",
   "metadata": {},
   "outputs": [
    {
     "name": "stdout",
     "output_type": "stream",
     "text": [
      "50 day VaR: With 99% confidence, the worst daily loss will not exceed -6.41%\n",
      "100 day VaR: With 99% confidence, the worst daily loss will not exceed -5.18%\n",
      "200 day VaR: With 99% confidence, the worst daily loss will not exceed -6.11%\n",
      "300 day VaR: With 99% confidence, the worst daily loss will not exceed -6.99%\n"
     ]
    }
   ],
   "source": [
    "#iterate through each lookback and perform calculations\n",
    "\n",
    "for period in lookback_periods:\n",
    "    \n",
    "    #utilize the historical method and a 99% confidence interval for VaR calculation\n",
    "    VaR_period = df_data[\"daily change\"].rolling(window=period).quantile(0.01)\n",
    "    \n",
    "    # get the last VaR value for each period\n",
    "    last_VaR = VaR_period.dropna().iloc[-1]\n",
    "    \n",
    "    # print the results\n",
    "    print(f\"{period} day VaR: With 99% confidence, the worst daily loss will not exceed {round(last_VaR * 100, 2)}%\")"
   ]
  }
 ],
 "metadata": {
  "kernelspec": {
   "display_name": "Python 3 (ipykernel)",
   "language": "python",
   "name": "python3"
  },
  "language_info": {
   "codemirror_mode": {
    "name": "ipython",
    "version": 3
   },
   "file_extension": ".py",
   "mimetype": "text/x-python",
   "name": "python",
   "nbconvert_exporter": "python",
   "pygments_lexer": "ipython3",
   "version": "3.9.7"
  }
 },
 "nbformat": 4,
 "nbformat_minor": 5
}
