{
 "cells": [
  {
   "cell_type": "code",
   "execution_count": 11,
   "id": "df382650",
   "metadata": {},
   "outputs": [],
   "source": [
    "#import necessary packages\n",
    "\n",
    "import numpy as np\n",
    "import pandas as pd\n",
    "from scipy.stats import norm"
   ]
  },
  {
   "cell_type": "code",
   "execution_count": 12,
   "id": "def1c33f",
   "metadata": {},
   "outputs": [
    {
     "data": {
      "text/html": [
       "<div>\n",
       "<style scoped>\n",
       "    .dataframe tbody tr th:only-of-type {\n",
       "        vertical-align: middle;\n",
       "    }\n",
       "\n",
       "    .dataframe tbody tr th {\n",
       "        vertical-align: top;\n",
       "    }\n",
       "\n",
       "    .dataframe thead th {\n",
       "        text-align: right;\n",
       "    }\n",
       "</style>\n",
       "<table border=\"1\" class=\"dataframe\">\n",
       "  <thead>\n",
       "    <tr style=\"text-align: right;\">\n",
       "      <th></th>\n",
       "      <th>Dates</th>\n",
       "      <th>10yr Teasury Bond Yields (Jan 2021 - Present)</th>\n",
       "    </tr>\n",
       "  </thead>\n",
       "  <tbody>\n",
       "    <tr>\n",
       "      <th>0</th>\n",
       "      <td>2022-08-01</td>\n",
       "      <td>2.608</td>\n",
       "    </tr>\n",
       "    <tr>\n",
       "      <th>1</th>\n",
       "      <td>2022-07-29</td>\n",
       "      <td>2.651</td>\n",
       "    </tr>\n",
       "    <tr>\n",
       "      <th>2</th>\n",
       "      <td>2022-07-28</td>\n",
       "      <td>2.677</td>\n",
       "    </tr>\n",
       "    <tr>\n",
       "      <th>3</th>\n",
       "      <td>2022-07-27</td>\n",
       "      <td>2.788</td>\n",
       "    </tr>\n",
       "    <tr>\n",
       "      <th>4</th>\n",
       "      <td>2022-07-26</td>\n",
       "      <td>2.809</td>\n",
       "    </tr>\n",
       "  </tbody>\n",
       "</table>\n",
       "</div>"
      ],
      "text/plain": [
       "       Dates  10yr Teasury Bond Yields (Jan 2021 - Present)\n",
       "0 2022-08-01                                          2.608\n",
       "1 2022-07-29                                          2.651\n",
       "2 2022-07-28                                          2.677\n",
       "3 2022-07-27                                          2.788\n",
       "4 2022-07-26                                          2.809"
      ]
     },
     "execution_count": 12,
     "metadata": {},
     "output_type": "execute_result"
    }
   ],
   "source": [
    "#pull historical data from excel spreadsheet and store it in a data frame\n",
    "\n",
    "df_data = pd.read_excel(r'C:\\Users\\sudyu\\Downloads\\Bond Data.xlsx')\n",
    "df_data.head()"
   ]
  },
  {
   "cell_type": "code",
   "execution_count": 14,
   "id": "0d397c93",
   "metadata": {},
   "outputs": [
    {
     "data": {
      "text/html": [
       "<div>\n",
       "<style scoped>\n",
       "    .dataframe tbody tr th:only-of-type {\n",
       "        vertical-align: middle;\n",
       "    }\n",
       "\n",
       "    .dataframe tbody tr th {\n",
       "        vertical-align: top;\n",
       "    }\n",
       "\n",
       "    .dataframe thead th {\n",
       "        text-align: right;\n",
       "    }\n",
       "</style>\n",
       "<table border=\"1\" class=\"dataframe\">\n",
       "  <thead>\n",
       "    <tr style=\"text-align: right;\">\n",
       "      <th></th>\n",
       "      <th>Dates</th>\n",
       "      <th>10yr Teasury Bond Yields (Jan 2021 - Present)</th>\n",
       "      <th>daily change</th>\n",
       "    </tr>\n",
       "  </thead>\n",
       "  <tbody>\n",
       "    <tr>\n",
       "      <th>0</th>\n",
       "      <td>2022-08-01</td>\n",
       "      <td>2.608</td>\n",
       "      <td>-0.016220</td>\n",
       "    </tr>\n",
       "    <tr>\n",
       "      <th>1</th>\n",
       "      <td>2022-07-29</td>\n",
       "      <td>2.651</td>\n",
       "      <td>-0.009712</td>\n",
       "    </tr>\n",
       "    <tr>\n",
       "      <th>2</th>\n",
       "      <td>2022-07-28</td>\n",
       "      <td>2.677</td>\n",
       "      <td>-0.039813</td>\n",
       "    </tr>\n",
       "    <tr>\n",
       "      <th>3</th>\n",
       "      <td>2022-07-27</td>\n",
       "      <td>2.788</td>\n",
       "      <td>-0.007476</td>\n",
       "    </tr>\n",
       "    <tr>\n",
       "      <th>4</th>\n",
       "      <td>2022-07-26</td>\n",
       "      <td>2.809</td>\n",
       "      <td>0.003931</td>\n",
       "    </tr>\n",
       "  </tbody>\n",
       "</table>\n",
       "</div>"
      ],
      "text/plain": [
       "       Dates  10yr Teasury Bond Yields (Jan 2021 - Present)  daily change\n",
       "0 2022-08-01                                          2.608     -0.016220\n",
       "1 2022-07-29                                          2.651     -0.009712\n",
       "2 2022-07-28                                          2.677     -0.039813\n",
       "3 2022-07-27                                          2.788     -0.007476\n",
       "4 2022-07-26                                          2.809      0.003931"
      ]
     },
     "execution_count": 14,
     "metadata": {},
     "output_type": "execute_result"
    }
   ],
   "source": [
    "#maniuplate and modify dataset to calculate and list the daily change in yields\n",
    "\n",
    "df_data[\"daily change\"] = df_data[\"10yr Teasury Bond Yields (Jan 2021 - Present)\"].pct_change(-1) \n",
    "df_data.head()"
   ]
  },
  {
   "cell_type": "code",
   "execution_count": 18,
   "id": "0c1e7205",
   "metadata": {},
   "outputs": [],
   "source": [
    "#For this analysis, utilize four lookbacks: 50/100/200/300 trading days\n",
    "#calculate the mean of the daily changes for each lookback and store it in a variable\n",
    "\n",
    "mean_50day = df_data.loc[0:49, \"daily change\"].mean()\n",
    "mean_100day = df_data.loc[0:99, \"daily change\"].mean()\n",
    "mean_200day = df_data.loc[0:199, \"daily change\"].mean()\n",
    "mean_300day = df_data.loc[0:299, \"daily change\"].mean()"
   ]
  },
  {
   "cell_type": "code",
   "execution_count": 19,
   "id": "d4115a32",
   "metadata": {},
   "outputs": [],
   "source": [
    "#calculate the standard deviation of the daily changes for each lookback and store it in a variable\n",
    "\n",
    "stdev_50day = np.std(df_data.loc[0:49, \"daily change\"])\n",
    "stdev_100day = np.std(df_data.loc[0:99, \"daily change\"])\n",
    "stdev_200day = np.std(df_data.loc[0:199, \"daily change\"])\n",
    "stdev_300day = np.std(df_data.loc[0:299, \"daily change\"])"
   ]
  },
  {
   "cell_type": "code",
   "execution_count": 20,
   "id": "b7667d63",
   "metadata": {},
   "outputs": [],
   "source": [
    "#Assume a 99% confidence interval\n",
    "#calculate the individual VaR's and store it in a variable\n",
    "\n",
    "VaR_50day = norm.ppf(0.01, mean_50day, stdev_50day)\n",
    "VaR_100day = norm.ppf(0.01, mean_100day, stdev_100day)\n",
    "VaR_200day = norm.ppf(0.01, mean_200day, stdev_200day)\n",
    "VaR_300day = norm.ppf(0.01, mean_300day, stdev_300day)"
   ]
  },
  {
   "cell_type": "code",
   "execution_count": 21,
   "id": "de99a10e",
   "metadata": {},
   "outputs": [
    {
     "name": "stdout",
     "output_type": "stream",
     "text": [
      "50 day VaR: With 99% confidence, the worst daily loss will not exceed 6.24%\n",
      "100 day VaR: With 99% confidence, the worst daily loss will not exceed 6.03%\n",
      "200 day VaR: With 99% confidence, the worst daily loss will not exceed 6.86%\n",
      "300 day VaR: With 99% confidence, the worst daily loss will not exceed 6.85%\n"
     ]
    }
   ],
   "source": [
    "#results\n",
    "\n",
    "print(\"50 day VaR: With 99% confidence, the worst daily loss will not exceed \" + str(round(VaR_50day*-100, 2)) + \"%\")\n",
    "print(\"100 day VaR: With 99% confidence, the worst daily loss will not exceed \" + str(round(VaR_100day*-100, 2)) + \"%\")\n",
    "print(\"200 day VaR: With 99% confidence, the worst daily loss will not exceed \" + str(round(VaR_200day*-100, 2)) + \"%\")\n",
    "print(\"300 day VaR: With 99% confidence, the worst daily loss will not exceed \" + str(round(VaR_300day*-100, 2)) + \"%\")"
   ]
  }
 ],
 "metadata": {
  "kernelspec": {
   "display_name": "Python 3 (ipykernel)",
   "language": "python",
   "name": "python3"
  },
  "language_info": {
   "codemirror_mode": {
    "name": "ipython",
    "version": 3
   },
   "file_extension": ".py",
   "mimetype": "text/x-python",
   "name": "python",
   "nbconvert_exporter": "python",
   "pygments_lexer": "ipython3",
   "version": "3.9.7"
  }
 },
 "nbformat": 4,
 "nbformat_minor": 5
}
